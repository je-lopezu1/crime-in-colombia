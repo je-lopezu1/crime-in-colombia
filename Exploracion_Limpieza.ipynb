{
 "cells": [
  {
   "cell_type": "markdown",
   "metadata": {},
   "source": [
    "# LIMPIEZA Y EXPLORACION DATOS DELITOS POLICIA NACIONAL DE COLOMBIA\n",
    "- Jeronimo Vargas Rendon - 202113305\n",
    "- Juan Esteban Lopez - 202021417"
   ]
  }
 ],
 "metadata": {
  "language_info": {
   "name": "python"
  }
 },
 "nbformat": 4,
 "nbformat_minor": 2
}
